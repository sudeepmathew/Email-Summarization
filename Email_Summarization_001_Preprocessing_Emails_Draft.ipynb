{
  "nbformat": 4,
  "nbformat_minor": 0,
  "metadata": {
    "colab": {
      "name": "Email Summarization.ipynb",
      "provenance": []
    },
    "kernelspec": {
      "name": "python3",
      "display_name": "Python 3"
    },
    "accelerator": "GPU"
  },
  "cells": [
    {
      "cell_type": "markdown",
      "metadata": {
        "id": "szVPUoVT49uq",
        "colab_type": "text"
      },
      "source": [
        "## Import packages"
      ]
    },
    {
      "cell_type": "code",
      "metadata": {
        "id": "Ti3U_ilg5Gp9",
        "colab_type": "code",
        "colab": {}
      },
      "source": [
        "import numpy as np               #array processing\n",
        "import pandas as pd              #data manipulation\n",
        "import re                        #regular expression for text cleaning\n",
        "import random\n",
        "\n",
        "import matplotlib.pyplot as plt\n",
        "%matplotlib inline\n",
        "\n",
        "import warnings\n",
        "pd.set_option(\"display.max_colwidth\", 200)\n",
        "warnings.filterwarnings(\"ignore\")"
      ],
      "execution_count": 1,
      "outputs": []
    },
    {
      "cell_type": "code",
      "metadata": {
        "id": "eHw1uVFa4UhB",
        "colab_type": "code",
        "colab": {}
      },
      "source": [
        "data = pd.read_excel('/content/drive/My Drive/Data/data.xlsx')"
      ],
      "execution_count": 2,
      "outputs": []
    },
    {
      "cell_type": "code",
      "metadata": {
        "id": "ysVUbrbh5crW",
        "colab_type": "code",
        "colab": {
          "base_uri": "https://localhost:8080/",
          "height": 238
        },
        "outputId": "63bd3881-e1a5-43c4-9ccb-aaf28719fe7f"
      },
      "source": [
        "data.head()"
      ],
      "execution_count": 3,
      "outputs": [
        {
          "output_type": "execute_result",
          "data": {
            "text/html": [
              "<div>\n",
              "<style scoped>\n",
              "    .dataframe tbody tr th:only-of-type {\n",
              "        vertical-align: middle;\n",
              "    }\n",
              "\n",
              "    .dataframe tbody tr th {\n",
              "        vertical-align: top;\n",
              "    }\n",
              "\n",
              "    .dataframe thead th {\n",
              "        text-align: right;\n",
              "    }\n",
              "</style>\n",
              "<table border=\"1\" class=\"dataframe\">\n",
              "  <thead>\n",
              "    <tr style=\"text-align: right;\">\n",
              "      <th></th>\n",
              "      <th>Email</th>\n",
              "      <th>Label</th>\n",
              "    </tr>\n",
              "  </thead>\n",
              "  <tbody>\n",
              "    <tr>\n",
              "      <th>0</th>\n",
              "      <td>Hi jen,\\n \\nCan you prioritize  Mathew (cc’d here) and site staff access for on-site activities tomorrow?\\n \\nThank you.</td>\n",
              "      <td>Access for Site</td>\n",
              "    </tr>\n",
              "    <tr>\n",
              "      <th>1</th>\n",
              "      <td>Dear Jim\\n \\nMy apologies, but I have just received two changes of email addresses for site 001; these are entered as comments (the old email addresses are highlighted in RED). \\n \\nThe updated 90...</td>\n",
              "      <td>Email Adress Change</td>\n",
              "    </tr>\n",
              "    <tr>\n",
              "      <th>2</th>\n",
              "      <td>Hi Jane,  Priority for 201 but the CRA will be working on both 001 and 002 as time permits.\\n\\nBob</td>\n",
              "      <td>Prioritize</td>\n",
              "    </tr>\n",
              "    <tr>\n",
              "      <th>3</th>\n",
              "      <td>Hi Frank, Bob, Seema, and Jane,\\n \\nWe received the attached user listings from Lab for each study. We will be uploading these user listings to each study just before go live currently scheduled f...</td>\n",
              "      <td>Allievex User listings for review</td>\n",
              "    </tr>\n",
              "    <tr>\n",
              "      <th>4</th>\n",
              "      <td>Hi, all.\\n\\nHave any of you done programming for getting and pushing data for a study using web services?\\n\\nJane</td>\n",
              "      <td>Web services</td>\n",
              "    </tr>\n",
              "  </tbody>\n",
              "</table>\n",
              "</div>"
            ],
            "text/plain": [
              "                                                                                                                                                                                                     Email                              Label\n",
              "0                                                                                 Hi jen,\\n \\nCan you prioritize  Mathew (cc’d here) and site staff access for on-site activities tomorrow?\\n \\nThank you.                    Access for Site\n",
              "1  Dear Jim\\n \\nMy apologies, but I have just received two changes of email addresses for site 001; these are entered as comments (the old email addresses are highlighted in RED). \\n \\nThe updated 90...                Email Adress Change\n",
              "2                                                                                                       Hi Jane,  Priority for 201 but the CRA will be working on both 001 and 002 as time permits.\\n\\nBob                         Prioritize\n",
              "3  Hi Frank, Bob, Seema, and Jane,\\n \\nWe received the attached user listings from Lab for each study. We will be uploading these user listings to each study just before go live currently scheduled f...  Allievex User listings for review\n",
              "4                                                                                        Hi, all.\\n\\nHave any of you done programming for getting and pushing data for a study using web services?\\n\\nJane                       Web services"
            ]
          },
          "metadata": {
            "tags": []
          },
          "execution_count": 3
        }
      ]
    },
    {
      "cell_type": "markdown",
      "metadata": {
        "id": "XmaSlk33riua",
        "colab_type": "text"
      },
      "source": [
        "# **Data Cleaning and Preprocessing**"
      ]
    },
    {
      "cell_type": "code",
      "metadata": {
        "id": "zvdEudf5gVLm",
        "colab_type": "code",
        "colab": {
          "base_uri": "https://localhost:8080/",
          "height": 292
        },
        "outputId": "c048b62d-97b5-4ae2-f0ea-2048f3c65f52"
      },
      "source": [
        "#Create a list for replacing new lines from the email\n",
        "email = []\n",
        "for i in data['Email']:\n",
        "  email.append(i.replace(\"\\n\",\"\"))\n",
        "email"
      ],
      "execution_count": 3,
      "outputs": [
        {
          "output_type": "execute_result",
          "data": {
            "text/plain": [
              "['Hi jen, Can you prioritize  Mathew (cc’d here) and site staff access for on-site activities tomorrow? Thank you.',\n",
              " 'Dear Jim My apologies, but I have just received two changes of email addresses for site 001; these are entered as comments (the old email addresses are highlighted in RED).  The updated 902 EDC user listing for comapny/Site Staff is attached. Kind regardsHarry',\n",
              " 'Hi Jane,  Priority for 201 but the CRA will be working on both 001 and 002 as time permits.Bob',\n",
              " 'Hi Frank, Bob, Seema, and Jane, We received the attached user listings from Lab for each study. We will be uploading these user listings to each study just before go live currently scheduled for  15 June. Please review the listings and make any changes so that we don’t upload any users no longer needing access that we would need to delete after upload. We can also add additional users as needed. Please return the updated user lists to us by Friday 12 June. Thanks!',\n",
              " 'Hi, all.Have any of you done programming for getting and pushing data for a study using web services?Jane',\n",
              " 'I’ve shared this with a few people individually, so figured I’d send it out to everyone for all those sick of holding down the ctrl key all day for your  reports.Here’s the setting you can change so you don’t have to hold the ctrl key down.  From Internet Options, just go to Security, select Trusted Sites, click Custom Level, then change Automatic prompting for file downloads from Disable to Enable.Thanks,Wade',\n",
              " 'Hello,One of our client on a current study is inquiring about reporting tools.The DB that they are using is Inform.  They mentioned Spotfire, are there others that they can use?Thank you.Kind regards,',\n",
              " 'Hi Sam and Seema, Please see below from Bridget; could you please take a look why for example page 2 the data did not pull? we can discuss during the meeting today.Regards, James',\n",
              " 'Hello Janice; There is a problem with the reports.  I was informed that when a subject is deleted it will not show up in data or in reports.  However, this subject is in the 360 Data Cleaning Progress report and it shows we need to collect forms and clean data.  See DEL@SF-147-002. This is an issue – please clarify as we work to ensure our study is only collecting data and counting metrics for real subjects. Thanks, Brenda',\n",
              " 'Hello,Do you have example Clean Patient Tracker and Missing Pages/Visit Report specifications for a RAVE EDC study that you may share? Thanks in advance!Warm Regards,Katherine',\n",
              " 'Hello team,Can you please let me know if there is a standard report available in Inform to see the status of the review state in the data review module to see the % remote review in Inform done by the CRA?Thanks.Kind regards,Tine',\n",
              " 'Hi Sam,Carolyn had question on subject status report. Do you know any report present in imedidata which shows subject status in subject level. I see that 360 enrollment has information but it showing site level. Can we extend more functionality to this report or do we have any other reports ?ThanksPeter',\n",
              " 'Hi james,This rpt link is not working, Can you please look into it. Thanks & Regards,shane',\n",
              " 'Hi Nahir,The Ad hoc Reporting tool for Preciosa doesn’t seem to be working – are you aware of any issues?  Tian was trying to update an existing report he created but the tool wouldn’t display the functionality/features to perform any updates.  I was able to replicate this problem.Here’s my Preciosa screen shot (no functionality displayed).  Even double-clicking the column headers does nothing.',\n",
              " 'Hi Everyone,I was getting error trying to setup a trial in 6.1 dev server. I only have total of 6 trials on server I use but, had to delete 2 trials in order to deploy this one that I needed. Can I request all of you to remove the trials that you don’t need on dev servers. Below is a screen shot of the trials in 6.1 servers. Deleting test trials after you are done with specific task is your responsibility. I don’t know, why we have to get to this situation every few months and ask every one to cleanup. Please do what you need to do to remind yourself every week to check and clean up your own server.']"
            ]
          },
          "metadata": {
            "tags": []
          },
          "execution_count": 3
        }
      ]
    },
    {
      "cell_type": "markdown",
      "metadata": {
        "id": "zJwU-dP6r32F",
        "colab_type": "text"
      },
      "source": [
        "# Size of the Email dataset"
      ]
    },
    {
      "cell_type": "code",
      "metadata": {
        "id": "akGyAxeOHa9k",
        "colab_type": "code",
        "colab": {
          "base_uri": "https://localhost:8080/",
          "height": 34
        },
        "outputId": "abdbb745-08d1-4436-e440-a40785b57a51"
      },
      "source": [
        "len(cleaned)"
      ],
      "execution_count": 414,
      "outputs": [
        {
          "output_type": "execute_result",
          "data": {
            "text/plain": [
              "15"
            ]
          },
          "metadata": {
            "tags": []
          },
          "execution_count": 414
        }
      ]
    },
    {
      "cell_type": "markdown",
      "metadata": {
        "id": "6OWdse-Or8-c",
        "colab_type": "text"
      },
      "source": [
        "# Function to clean the email by removing Salutation and Signature"
      ]
    },
    {
      "cell_type": "code",
      "metadata": {
        "id": "aAXH8hQRs1h9",
        "colab_type": "code",
        "colab": {}
      },
      "source": [
        ""
      ],
      "execution_count": null,
      "outputs": []
    },
    {
      "cell_type": "code",
      "metadata": {
        "id": "84V7qV34pBDF",
        "colab_type": "code",
        "colab": {}
      },
      "source": [
        "# Function which accepts a list of emails and a regular expression pattern to remove email salutation and signature\n",
        "def _clean(list,pattern):\n",
        "  li = []\n",
        "  sent =\"\"\n",
        "  for line in list:\n",
        "    sent=(re.sub(pattern,'',line))\n",
        "    li.append(sent)\n",
        "  return li"
      ],
      "execution_count": 21,
      "outputs": []
    },
    {
      "cell_type": "markdown",
      "metadata": {
        "id": "WLPa0baRs90V",
        "colab_type": "text"
      },
      "source": [
        "# Removing Email Salutation"
      ]
    },
    {
      "cell_type": "code",
      "metadata": {
        "id": "wIGdE2TapsXV",
        "colab_type": "code",
        "colab": {
          "base_uri": "https://localhost:8080/",
          "height": 292
        },
        "outputId": "f3f111fa-f279-4914-b45c-e7542ffbcf1b"
      },
      "source": [
        "li_Hi= _clean(email,r\"^Hi\\s+[a-zA-Z]*,\")\n",
        "li_Hello = _clean(li_Hi,r\"^Hello\\s+[a-zA-z]*,\")\n",
        "li_Hello1 = _clean(li_Hello,r\"^Hello\\s+[a-zA-z]*;\")\n",
        "li_Hello2 = _clean(li_Hello1,r\"^Hello,\")\n",
        "li_Dear = _clean(li_Hello2,r\"^Dear\\s+[a-zA-Z]{3}\")\n",
        "li_Hi2 = _clean(li_Dear,r\"^Hi\\s+[a-zA-Z]*\\s+and\\s+[a-zA-Z]*,\")\n",
        "li_rev = _clean(li_Hi2,r\"^[a-zA-Z]{3},\\s+[a-zA-Z]{5},\\s+and\\s+[a-zA-Z]{4},\")\n",
        "li_Hi3= _clean(li_rev,r\"^Hi,\\s+[a-zA-Z]*.\")\n",
        "li_Hi4= _clean(li_Hi3,r\"Bob, Seema, and Jane,\")\n",
        "li_space = _clean(li_Hi4,r\"^\\s\")\n",
        "li_space"
      ],
      "execution_count": 13,
      "outputs": [
        {
          "output_type": "execute_result",
          "data": {
            "text/plain": [
              "['Can you prioritize  Mathew (cc’d here) and site staff access for on-site activities tomorrow? Thank you.',\n",
              " 'My apologies, but I have just received two changes of email addresses for site 001; these are entered as comments (the old email addresses are highlighted in RED).  The updated 902 EDC user listing for comapny/Site Staff is attached. Kind regardsHarry',\n",
              " ' Priority for 201 but the CRA will be working on both 001 and 002 as time permits.Bob',\n",
              " ' We received the attached user listings from Lab for each study. We will be uploading these user listings to each study just before go live currently scheduled for  15 June. Please review the listings and make any changes so that we don’t upload any users no longer needing access that we would need to delete after upload. We can also add additional users as needed. Please return the updated user lists to us by Friday 12 June. Thanks!',\n",
              " 'Have any of you done programming for getting and pushing data for a study using web services?Jane',\n",
              " 'I’ve shared this with a few people individually, so figured I’d send it out to everyone for all those sick of holding down the ctrl key all day for your  reports.Here’s the setting you can change so you don’t have to hold the ctrl key down.  From Internet Options, just go to Security, select Trusted Sites, click Custom Level, then change Automatic prompting for file downloads from Disable to Enable.Thanks,Wade',\n",
              " 'One of our client on a current study is inquiring about reporting tools.The DB that they are using is Inform.  They mentioned Spotfire, are there others that they can use?Thank you.Kind regards,',\n",
              " 'Please see below from Bridget; could you please take a look why for example page 2 the data did not pull? we can discuss during the meeting today.Regards, James',\n",
              " 'There is a problem with the reports.  I was informed that when a subject is deleted it will not show up in data or in reports.  However, this subject is in the 360 Data Cleaning Progress report and it shows we need to collect forms and clean data.  See DEL@SF-147-002. This is an issue – please clarify as we work to ensure our study is only collecting data and counting metrics for real subjects. Thanks, Brenda',\n",
              " 'Do you have example Clean Patient Tracker and Missing Pages/Visit Report specifications for a RAVE EDC study that you may share? Thanks in advance!Warm Regards,Katherine',\n",
              " 'Can you please let me know if there is a standard report available in Inform to see the status of the review state in the data review module to see the % remote review in Inform done by the CRA?Thanks.Kind regards,Tine',\n",
              " 'Carolyn had question on subject status report. Do you know any report present in imedidata which shows subject status in subject level. I see that 360 enrollment has information but it showing site level. Can we extend more functionality to this report or do we have any other reports ?ThanksPeter',\n",
              " 'This rpt link is not working, Can you please look into it. Thanks & Regards,shane',\n",
              " 'The Ad hoc Reporting tool for Preciosa doesn’t seem to be working – are you aware of any issues?  Tian was trying to update an existing report he created but the tool wouldn’t display the functionality/features to perform any updates.  I was able to replicate this problem.Here’s my Preciosa screen shot (no functionality displayed).  Even double-clicking the column headers does nothing.',\n",
              " 'I was getting error trying to setup a trial in 6.1 dev server. I only have total of 6 trials on server I use but, had to delete 2 trials in order to deploy this one that I needed. Can I request all of you to remove the trials that you don’t need on dev servers. Below is a screen shot of the trials in 6.1 servers. Deleting test trials after you are done with specific task is your responsibility. I don’t know, why we have to get to this situation every few months and ask every one to cleanup. Please do what you need to do to remind yourself every week to check and clean up your own server.']"
            ]
          },
          "metadata": {
            "tags": []
          },
          "execution_count": 13
        }
      ]
    },
    {
      "cell_type": "markdown",
      "metadata": {
        "id": "Ek8DmKG6tEGV",
        "colab_type": "text"
      },
      "source": [
        "# Removing Email Signature"
      ]
    },
    {
      "cell_type": "code",
      "metadata": {
        "id": "GXJTk-oSQoQ4",
        "colab_type": "code",
        "colab": {
          "base_uri": "https://localhost:8080/",
          "height": 292
        },
        "outputId": "08f2c7dc-f924-4c77-d1e2-1e75e7ddd7b0"
      },
      "source": [
        "li_th1 = _clean(li_space,r\"Thank\\s+[a-zA-Z]*.\")\n",
        "li_th2 = _clean(li_th1,r\"Thanks\\s+[a-zA-Z]*.\")\n",
        "li_th3 = _clean(li_th2,r\"Thanks!\")\n",
        "li_th4 = _clean(li_th3,r\"Thanks,\\s+[a-zA-Z]*\")\n",
        "li_th5 = _clean(li_th4,r\"Thanks,[a-zA-Z]*\")\n",
        "li_th6 = _clean(li_th5,r\"Thanks[a-zA-Z]*\")\n",
        "li_th7 = _clean(li_th6,r\"Kind\\s+[a-zA-Z]*,\")\n",
        "li_th8 = _clean(li_th7,r\"Regards,\\s+[a-zA-Z]*\")\n",
        "li_th9 = _clean(li_th8,r\"Regards,[a-zA-Z]*\")\n",
        "li_th10 = _clean(li_th9,r\"advance![a-zA-Z]*\\s+\")\n",
        "li_th10"
      ],
      "execution_count": 14,
      "outputs": [
        {
          "output_type": "execute_result",
          "data": {
            "text/plain": [
              "['Can you prioritize  Mathew (cc’d here) and site staff access for on-site activities tomorrow? ',\n",
              " 'My apologies, but I have just received two changes of email addresses for site 001; these are entered as comments (the old email addresses are highlighted in RED).  The updated 902 EDC user listing for comapny/Site Staff is attached. Kind regardsHarry',\n",
              " ' Priority for 201 but the CRA will be working on both 001 and 002 as time permits.Bob',\n",
              " ' We received the attached user listings from Lab for each study. We will be uploading these user listings to each study just before go live currently scheduled for  15 June. Please review the listings and make any changes so that we don’t upload any users no longer needing access that we would need to delete after upload. We can also add additional users as needed. Please return the updated user lists to us by Friday 12 June. ',\n",
              " 'Have any of you done programming for getting and pushing data for a study using web services?Jane',\n",
              " 'I’ve shared this with a few people individually, so figured I’d send it out to everyone for all those sick of holding down the ctrl key all day for your  reports.Here’s the setting you can change so you don’t have to hold the ctrl key down.  From Internet Options, just go to Security, select Trusted Sites, click Custom Level, then change Automatic prompting for file downloads from Disable to Enable.',\n",
              " 'One of our client on a current study is inquiring about reporting tools.The DB that they are using is Inform.  They mentioned Spotfire, are there others that they can use?',\n",
              " 'Please see below from Bridget; could you please take a look why for example page 2 the data did not pull? we can discuss during the meeting today.',\n",
              " 'There is a problem with the reports.  I was informed that when a subject is deleted it will not show up in data or in reports.  However, this subject is in the 360 Data Cleaning Progress report and it shows we need to collect forms and clean data.  See DEL@SF-147-002. This is an issue – please clarify as we work to ensure our study is only collecting data and counting metrics for real subjects. ',\n",
              " 'Do you have example Clean Patient Tracker and Missing Pages/Visit Report specifications for a RAVE EDC study that you may share? ',\n",
              " 'Can you please let me know if there is a standard report available in Inform to see the status of the review state in the data review module to see the % remote review in Inform done by the CRA?.Tine',\n",
              " 'Carolyn had question on subject status report. Do you know any report present in imedidata which shows subject status in subject level. I see that 360 enrollment has information but it showing site level. Can we extend more functionality to this report or do we have any other reports ?',\n",
              " 'This rpt link is not working, Can you please look into it.  ',\n",
              " 'The Ad hoc Reporting tool for Preciosa doesn’t seem to be working – are you aware of any issues?  Tian was trying to update an existing report he created but the tool wouldn’t display the functionality/features to perform any updates.  I was able to replicate this problem.Here’s my Preciosa screen shot (no functionality displayed).  Even double-clicking the column headers does nothing.',\n",
              " 'I was getting error trying to setup a trial in 6.1 dev server. I only have total of 6 trials on server I use but, had to delete 2 trials in order to deploy this one that I needed. Can I request all of you to remove the trials that you don’t need on dev servers. Below is a screen shot of the trials in 6.1 servers. Deleting test trials after you are done with specific task is your responsibility. I don’t know, why we have to get to this situation every few months and ask every one to cleanup. Please do what you need to do to remind yourself every week to check and clean up your own server.']"
            ]
          },
          "metadata": {
            "tags": []
          },
          "execution_count": 14
        }
      ]
    },
    {
      "cell_type": "code",
      "metadata": {
        "id": "lxvflisFqRBk",
        "colab_type": "code",
        "colab": {}
      },
      "source": [
        "df = pd.DataFrame({'Email':li_th10,'Label':data['Label']})"
      ],
      "execution_count": 19,
      "outputs": []
    },
    {
      "cell_type": "code",
      "metadata": {
        "id": "kNohFGvlzD8T",
        "colab_type": "code",
        "colab": {
          "base_uri": "https://localhost:8080/",
          "height": 837
        },
        "outputId": "98e8c065-a547-487f-bb86-491b9141a104"
      },
      "source": [
        "df\n"
      ],
      "execution_count": 20,
      "outputs": [
        {
          "output_type": "execute_result",
          "data": {
            "text/html": [
              "<div>\n",
              "<style scoped>\n",
              "    .dataframe tbody tr th:only-of-type {\n",
              "        vertical-align: middle;\n",
              "    }\n",
              "\n",
              "    .dataframe tbody tr th {\n",
              "        vertical-align: top;\n",
              "    }\n",
              "\n",
              "    .dataframe thead th {\n",
              "        text-align: right;\n",
              "    }\n",
              "</style>\n",
              "<table border=\"1\" class=\"dataframe\">\n",
              "  <thead>\n",
              "    <tr style=\"text-align: right;\">\n",
              "      <th></th>\n",
              "      <th>Email</th>\n",
              "      <th>Label</th>\n",
              "    </tr>\n",
              "  </thead>\n",
              "  <tbody>\n",
              "    <tr>\n",
              "      <th>0</th>\n",
              "      <td>Can you prioritize  Mathew (cc’d here) and site staff access for on-site activities tomorrow?</td>\n",
              "      <td>Access for Site</td>\n",
              "    </tr>\n",
              "    <tr>\n",
              "      <th>1</th>\n",
              "      <td>My apologies, but I have just received two changes of email addresses for site 001; these are entered as comments (the old email addresses are highlighted in RED).  The updated 902 EDC user listin...</td>\n",
              "      <td>Email Adress Change</td>\n",
              "    </tr>\n",
              "    <tr>\n",
              "      <th>2</th>\n",
              "      <td>Priority for 201 but the CRA will be working on both 001 and 002 as time permits.Bob</td>\n",
              "      <td>Prioritize</td>\n",
              "    </tr>\n",
              "    <tr>\n",
              "      <th>3</th>\n",
              "      <td>We received the attached user listings from Lab for each study. We will be uploading these user listings to each study just before go live currently scheduled for  15 June. Please review the list...</td>\n",
              "      <td>Allievex User listings for review</td>\n",
              "    </tr>\n",
              "    <tr>\n",
              "      <th>4</th>\n",
              "      <td>Have any of you done programming for getting and pushing data for a study using web services?Jane</td>\n",
              "      <td>Web services</td>\n",
              "    </tr>\n",
              "    <tr>\n",
              "      <th>5</th>\n",
              "      <td>I’ve shared this with a few people individually, so figured I’d send it out to everyone for all those sick of holding down the ctrl key all day for your  reports.Here’s the setting you can change ...</td>\n",
              "      <td>Changing IE setting so you don't have to hold down the control key for Reports</td>\n",
              "    </tr>\n",
              "    <tr>\n",
              "      <th>6</th>\n",
              "      <td>One of our client on a current study is inquiring about reporting tools.The DB that they are using is Inform.  They mentioned Spotfire, are there others that they can use?</td>\n",
              "      <td>Inform Reporting Tools</td>\n",
              "    </tr>\n",
              "    <tr>\n",
              "      <th>7</th>\n",
              "      <td>Please see below from Bridget; could you please take a look why for example page 2 the data did not pull? we can discuss during the meeting today.</td>\n",
              "      <td>Data load</td>\n",
              "    </tr>\n",
              "    <tr>\n",
              "      <th>8</th>\n",
              "      <td>There is a problem with the reports.  I was informed that when a subject is deleted it will not show up in data or in reports.  However, this subject is in the 360 Data Cleaning Progress report an...</td>\n",
              "      <td>Deleted subjects Issue</td>\n",
              "    </tr>\n",
              "    <tr>\n",
              "      <th>9</th>\n",
              "      <td>Do you have example Clean Patient Tracker and Missing Pages/Visit Report specifications for a RAVE EDC study that you may share?</td>\n",
              "      <td>Example Specification - Clean Subject Trackers and Missing Pages/Visit Report for studies in RAVE</td>\n",
              "    </tr>\n",
              "    <tr>\n",
              "      <th>10</th>\n",
              "      <td>Can you please let me know if there is a standard report available in Inform to see the status of the review state in the data review module to see the % remote review in Inform done by the CRA?.Tine</td>\n",
              "      <td>Inform report for remote data review in Inform</td>\n",
              "    </tr>\n",
              "    <tr>\n",
              "      <th>11</th>\n",
              "      <td>Carolyn had question on subject status report. Do you know any report present in imedidata which shows subject status in subject level. I see that 360 enrollment has information but it showing sit...</td>\n",
              "      <td>Question on subject status reports</td>\n",
              "    </tr>\n",
              "    <tr>\n",
              "      <th>12</th>\n",
              "      <td>This rpt link is not working, Can you please look into it.</td>\n",
              "      <td>rpt link issue</td>\n",
              "    </tr>\n",
              "    <tr>\n",
              "      <th>13</th>\n",
              "      <td>The Ad hoc Reporting tool for Preciosa doesn’t seem to be working – are you aware of any issues?  Tian was trying to update an existing report he created but the tool wouldn’t display the function...</td>\n",
              "      <td>Ad hoc Reporting issues</td>\n",
              "    </tr>\n",
              "    <tr>\n",
              "      <th>14</th>\n",
              "      <td>I was getting error trying to setup a trial in 6.1 dev server. I only have total of 6 trials on server I use but, had to delete 2 trials in order to deploy this one that I needed. Can I request al...</td>\n",
              "      <td>server cleanup</td>\n",
              "    </tr>\n",
              "  </tbody>\n",
              "</table>\n",
              "</div>"
            ],
            "text/plain": [
              "                                                                                                                                                                                                      Email                                                                                              Label\n",
              "0                                                                                                            Can you prioritize  Mathew (cc’d here) and site staff access for on-site activities tomorrow?                                                                                     Access for Site\n",
              "1   My apologies, but I have just received two changes of email addresses for site 001; these are entered as comments (the old email addresses are highlighted in RED).  The updated 902 EDC user listin...                                                                                Email Adress Change\n",
              "2                                                                                                                      Priority for 201 but the CRA will be working on both 001 and 002 as time permits.Bob                                                                                         Prioritize\n",
              "3    We received the attached user listings from Lab for each study. We will be uploading these user listings to each study just before go live currently scheduled for  15 June. Please review the list...                                                                  Allievex User listings for review\n",
              "4                                                                                                         Have any of you done programming for getting and pushing data for a study using web services?Jane                                                                                       Web services\n",
              "5   I’ve shared this with a few people individually, so figured I’d send it out to everyone for all those sick of holding down the ctrl key all day for your  reports.Here’s the setting you can change ...                     Changing IE setting so you don't have to hold down the control key for Reports\n",
              "6                               One of our client on a current study is inquiring about reporting tools.The DB that they are using is Inform.  They mentioned Spotfire, are there others that they can use?                                                                             Inform Reporting Tools\n",
              "7                                                        Please see below from Bridget; could you please take a look why for example page 2 the data did not pull? we can discuss during the meeting today.                                                                                          Data load\n",
              "8   There is a problem with the reports.  I was informed that when a subject is deleted it will not show up in data or in reports.  However, this subject is in the 360 Data Cleaning Progress report an...                                                                             Deleted subjects Issue\n",
              "9                                                                         Do you have example Clean Patient Tracker and Missing Pages/Visit Report specifications for a RAVE EDC study that you may share?   Example Specification - Clean Subject Trackers and Missing Pages/Visit Report for studies in RAVE\n",
              "10  Can you please let me know if there is a standard report available in Inform to see the status of the review state in the data review module to see the % remote review in Inform done by the CRA?.Tine                                                     Inform report for remote data review in Inform\n",
              "11  Carolyn had question on subject status report. Do you know any report present in imedidata which shows subject status in subject level. I see that 360 enrollment has information but it showing sit...                                                                 Question on subject status reports\n",
              "12                                                                                                                                             This rpt link is not working, Can you please look into it.                                                                                       rpt link issue\n",
              "13  The Ad hoc Reporting tool for Preciosa doesn’t seem to be working – are you aware of any issues?  Tian was trying to update an existing report he created but the tool wouldn’t display the function...                                                                            Ad hoc Reporting issues\n",
              "14  I was getting error trying to setup a trial in 6.1 dev server. I only have total of 6 trials on server I use but, had to delete 2 trials in order to deploy this one that I needed. Can I request al...                                                                                     server cleanup"
            ]
          },
          "metadata": {
            "tags": []
          },
          "execution_count": 20
        }
      ]
    }
  ]
}